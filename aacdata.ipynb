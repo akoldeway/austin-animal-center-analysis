{
 "cells": [
  {
   "cell_type": "code",
   "execution_count": 1,
   "metadata": {},
   "outputs": [],
   "source": [
    "import pandas as pd\n",
    "import re"
   ]
  },
  {
   "cell_type": "code",
   "execution_count": 2,
   "metadata": {},
   "outputs": [],
   "source": [
    "def parse_gender(s):\n",
    "    '''\n",
    "    Pass in Sex upon Intake value from dataframe and will return age in months\n",
    "    '''\n",
    "    # use regex to see if Male or Female is in the string and return that, ele return string\n",
    "    if bool(re.search('Female', s)):\n",
    "        return 'Female'\n",
    "    elif bool(re.search('Male', s)):\n",
    "        return 'Male'\n",
    "    else:\n",
    "        return s"
   ]
  },
  {
   "cell_type": "code",
   "execution_count": 3,
   "metadata": {},
   "outputs": [],
   "source": [
    "def parse_age(a):\n",
    "    '''\n",
    "    Pass in Age upon Intake or Age upon Outcome value from dataframe and will return age in months\n",
    "    '''\n",
    "    #split string and return age as months\n",
    "    age = a.split()\n",
    "    total_months = 0\n",
    "    if age[1] in('month', 'months'):\n",
    "        if int(age[0]) < 0:\n",
    "            total_months = 0\n",
    "        else:\n",
    "            total_months = int(age[0])\n",
    "    elif age[1] in('year', 'years'):\n",
    "        if int(age[0]) < 0:\n",
    "            total_months = 0\n",
    "        else:\n",
    "            total_months = int(int(age[0])*12)\n",
    "    elif age[1] in('week', 'weeks', 'day', 'days'):\n",
    "        total_months = 0\n",
    "    return total_months"
   ]
  },
  {
   "cell_type": "code",
   "execution_count": 4,
   "metadata": {},
   "outputs": [],
   "source": [
    "def clean_intake_data(filepath):\n",
    "    '''\n",
    "    Takes a file path of the Austin Aniaml Center Intake data and returns dataframe after \n",
    "    performing the following clean up tasks:\n",
    "    \n",
    "    - Parses Date Time into Intake Month and Intake Year columns\n",
    "    - Parses Sex on Intake into Gender column (Male, Female, Unknown)\n",
    "    - Parses Age upon Intake into Intake Age in Months\n",
    "    - Removed the following columns: MonthYear, Sex upon Intake\n",
    "    '''\n",
    "    \n",
    "    df_intake = pd.read_csv(filepath)\n",
    "    \n",
    "    # parse the intake month and year into seperate fields\n",
    "    df_intake['Intake Month'] = pd.DatetimeIndex(df_intake['DateTime']).month\n",
    "    df_intake['Intake Year'] = pd.DatetimeIndex(df_intake['DateTime']).year\n",
    "    \n",
    "    # first, fill any nan's on the Sex upon Intake column to Unkown\n",
    "    df_intake['Sex upon Intake'] = df_intake['Sex upon Intake'].fillna('Unknown')\n",
    "\n",
    "    # now create a new column with parsed gender or \"unknown\"\n",
    "    df_intake['Gender'] = df_intake['Sex upon Intake'].apply(parse_gender)\n",
    "    \n",
    "    # create column for age in months\n",
    "    df_intake['Intake Age in Months'] = df_intake['Age upon Intake'].apply(parse_age)\n",
    "    \n",
    "    # drop columns we don't need\n",
    "    drop_columns=['MonthYear', 'Sex upon Intake']\n",
    "    df_intake.drop(columns=drop_columns, inplace=True)\n",
    "    \n",
    "\n",
    "    return df_intake"
   ]
  },
  {
   "cell_type": "code",
   "execution_count": 9,
   "metadata": {},
   "outputs": [],
   "source": [
    "def clean_outcome_data(filepath):\n",
    "    '''\n",
    "    Takes a file path of the Austin Aniaml Center Outcome data and returns dataframe after \n",
    "    performing the following clean up tasks:\n",
    "    \n",
    "    - Parses Date Time into Outcome Month and Outcome Year columns\n",
    "    - Removed the following columns: MonthYear, Date of Birth,  Sex upon Outcome\n",
    "    '''\n",
    "    df_outcome = pd.read_csv(filepath)\n",
    "    \n",
    "    # DateTime and MonthYear values are both full date times.  Will require some parsing\n",
    "    df_outcome['Outcome Month'] = pd.DatetimeIndex(df_outcome['DateTime']).month\n",
    "    df_outcome['Outcome Year'] = pd.DatetimeIndex(df_outcome['DateTime']).year\n",
    "    \n",
    "    # drop columns we don't need\n",
    "    drop_columns=['MonthYear', 'Date of Birth', 'Sex upon Outcome']\n",
    "    df_outcome.drop(columns=drop_columns, inplace=True)\n",
    "    \n",
    "    return df_outcome"
   ]
  },
  {
   "cell_type": "code",
   "execution_count": 6,
   "metadata": {},
   "outputs": [],
   "source": [
    "def find_duplicate_animals(df):   \n",
    "    '''\n",
    "    Takes a dataframe and returns a dataframe with ONLY duplicates based on Animal ID ()\n",
    "    '''\n",
    "    # return only the dupes\n",
    "    df_result = df[df.duplicated(subset='Animal ID', keep=False)].reset_index(drop=True)\n",
    "    return df_result;"
   ]
  },
  {
   "cell_type": "code",
   "execution_count": 7,
   "metadata": {},
   "outputs": [],
   "source": [
    "def remove_duplicate_animals(df):\n",
    "    '''\n",
    "    Takes a dataframe and returns a dataframe WITHOUT duplicates based on Animal ID (dupes are removed)\n",
    "    '''\n",
    "    # remove all duplicates, including first one it finds\n",
    "    df_result = df.drop_duplicates(subset ='Animal ID', keep = False).reset_index(drop=True)\n",
    "    return df_result;"
   ]
  },
  {
   "cell_type": "code",
   "execution_count": 8,
   "metadata": {},
   "outputs": [],
   "source": [
    "def combine_intake_outcome(df_intake, df_outcome):\n",
    "    '''\n",
    "    Takes intake and outcome dataframes and returns a single merged dataframe based on following:\n",
    "    \n",
    "    - merged on Animal ID\n",
    "    - how = inner\n",
    "    - includes all columns on intake dataframe and selects the following from outcome dataframe:\n",
    "       - DateTime\n",
    "       - Outcome Type\n",
    "       - Outcome Subtype\n",
    "       - Age upon Outcome\n",
    "       - Outcome Month\n",
    "       - Outcome Year\n",
    "    - creates new columns:\n",
    "       - Date Intake (intake date formatted as Date)\n",
    "       - Date Outcome (intake date formatted as Date)\n",
    "       - Days in Center (Date Outcome - Date Intake)\n",
    "    '''\n",
    "    df_combined = pd.merge(df_intake, df_outcome[['Animal ID', 'DateTime', 'Outcome Type', \n",
    "                                                  'Outcome Subtype', 'Age upon Outcome', 'Outcome Month', 'Outcome Year']], \n",
    "                           how='inner', on='Animal ID', suffixes=(' Intake', ' Outcome'), copy=False)\n",
    "    \n",
    "    # add new fields to parse intake and outceom date as date\n",
    "    df_combined['Date Intake'] = pd.to_datetime(df_combined[\"DateTime Intake\"]).dt.date\n",
    "    df_combined['Date Outcome'] = pd.to_datetime(df_combined[\"DateTime Outcome\"]).dt.date\n",
    "    \n",
    "    # calc number of days in center\n",
    "    df_combined['Days in Center'] = (df_combined['Date Outcome'] - df_combined['Date Intake']).dt.days\n",
    "    \n",
    "#     # drop columns we don't need\n",
    "#     drop_columns=['Date Intake', 'Date Outcome']\n",
    "#     df_combined.drop(columns=drop_columns, inplace=True)\n",
    "    \n",
    "\n",
    "    return df_combined"
   ]
  },
  {
   "cell_type": "code",
   "execution_count": null,
   "metadata": {},
   "outputs": [],
   "source": []
  }
 ],
 "metadata": {
  "kernelspec": {
   "display_name": "Conda [PythonData]",
   "language": "python",
   "name": "pythondata"
  },
  "language_info": {
   "codemirror_mode": {
    "name": "ipython",
    "version": 3
   },
   "file_extension": ".py",
   "mimetype": "text/x-python",
   "name": "python",
   "nbconvert_exporter": "python",
   "pygments_lexer": "ipython3",
   "version": "3.7.1"
  }
 },
 "nbformat": 4,
 "nbformat_minor": 2
}
