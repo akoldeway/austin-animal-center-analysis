{
 "cells": [
  {
   "cell_type": "code",
   "execution_count": 13,
   "metadata": {},
   "outputs": [],
   "source": [
    "import re\n",
    "import aacdata\n",
    "import pandas as pd\n",
    "import matplotlib.pyplot as plt\n",
    "import numpy as np\n",
    "from scipy.stats import linregress\n",
    "\n",
    "# # create dataframes\n",
    "df_intakes = aacdata.clean_intake_data('data/Austin_Animal_Center_Intakes.csv')\n",
    "df_outcomes = aacdata.clean_outcome_data('data/Austin_Animal_Center_Outcomes.csv')\n",
    "df_combined = aacdata.combine_intake_outcome(df_intakes, df_outcomes)\n",
    "df_combined_deduped = aacdata.remove_duplicate_animals(df_combined)\n",
    "\n",
    "# #save cleaned data as csv\n",
    "# df_intakes.to_csv('df_intake.csv')\n",
    "# df_outcomes.to_csv('df_outcome.csv')\n",
    "# df_combined.to_csv('df_combined.csv')\n",
    "# df_combined_deduped.to_csv('df_combined_deduped.csv')\n",
    "\n",
    "# df_intakes = pd.read_csv('df_intake.csv')\n",
    "# df_outcomes = pd.read_csv('df_outcome.csv')\n",
    "# df_combined = pd.read_csv('df_combined.csv')\n",
    "# df_combined_deduped = pd.read_csv('df_combined_deduped.csv')\n",
    "\n",
    "color = ['xkcd:teal', 'xkcd:orange', 'xkcd:yellow','xkcd:light green', 'xkcd:magenta', 'xkcd:light blue']"
   ]
  },
  {
   "cell_type": "code",
   "execution_count": 14,
   "metadata": {},
   "outputs": [],
   "source": [
    "df_intake = pd.read_csv('df_intake.csv')\n",
    "df_outcome = pd.read_csv('df_outcome.csv')\n",
    "df_combined = pd.read_csv('df_combined.csv')\n",
    "df_combined_nodup = aacdata.remove_duplicate_animals(df_combined)"
   ]
  },
  {
   "cell_type": "code",
   "execution_count": 15,
   "metadata": {},
   "outputs": [
    {
     "data": {
      "text/html": [
       "<div>\n",
       "<style scoped>\n",
       "    .dataframe tbody tr th:only-of-type {\n",
       "        vertical-align: middle;\n",
       "    }\n",
       "\n",
       "    .dataframe tbody tr th {\n",
       "        vertical-align: top;\n",
       "    }\n",
       "\n",
       "    .dataframe thead th {\n",
       "        text-align: right;\n",
       "    }\n",
       "</style>\n",
       "<table border=\"1\" class=\"dataframe\">\n",
       "  <thead>\n",
       "    <tr style=\"text-align: right;\">\n",
       "      <th></th>\n",
       "      <th>Animal ID</th>\n",
       "      <th>Name</th>\n",
       "      <th>DateTime</th>\n",
       "      <th>Found Location</th>\n",
       "      <th>Intake Type</th>\n",
       "      <th>Intake Condition</th>\n",
       "      <th>Animal Type</th>\n",
       "      <th>Age upon Intake</th>\n",
       "      <th>Breed</th>\n",
       "      <th>Color</th>\n",
       "      <th>Intake Month</th>\n",
       "      <th>Intake Year</th>\n",
       "      <th>Gender</th>\n",
       "      <th>Intake Age in Months</th>\n",
       "    </tr>\n",
       "  </thead>\n",
       "  <tbody>\n",
       "    <tr>\n",
       "      <th>0</th>\n",
       "      <td>A797402</td>\n",
       "      <td>Seven Halo</td>\n",
       "      <td>08/27/2019 07:42:00 PM</td>\n",
       "      <td>4614 Sojourner in Travis (TX)</td>\n",
       "      <td>Public Assist</td>\n",
       "      <td>Normal</td>\n",
       "      <td>Dog</td>\n",
       "      <td>4 months</td>\n",
       "      <td>Border Terrier Mix</td>\n",
       "      <td>Tricolor</td>\n",
       "      <td>8</td>\n",
       "      <td>2019</td>\n",
       "      <td>Male</td>\n",
       "      <td>4</td>\n",
       "    </tr>\n",
       "    <tr>\n",
       "      <th>1</th>\n",
       "      <td>A803130</td>\n",
       "      <td>Kojack</td>\n",
       "      <td>08/27/2019 07:42:00 PM</td>\n",
       "      <td>4614 Sojourner in Travis (TX)</td>\n",
       "      <td>Public Assist</td>\n",
       "      <td>Normal</td>\n",
       "      <td>Dog</td>\n",
       "      <td>2 years</td>\n",
       "      <td>German Shepherd</td>\n",
       "      <td>Black/Blue Tick</td>\n",
       "      <td>8</td>\n",
       "      <td>2019</td>\n",
       "      <td>Male</td>\n",
       "      <td>24</td>\n",
       "    </tr>\n",
       "    <tr>\n",
       "      <th>2</th>\n",
       "      <td>A803129</td>\n",
       "      <td>NaN</td>\n",
       "      <td>08/27/2019 06:53:00 PM</td>\n",
       "      <td>7309 Carver Avenue in Austin (TX)</td>\n",
       "      <td>Stray</td>\n",
       "      <td>Normal</td>\n",
       "      <td>Dog</td>\n",
       "      <td>4 years</td>\n",
       "      <td>German Shepherd</td>\n",
       "      <td>Black/Tricolor</td>\n",
       "      <td>8</td>\n",
       "      <td>2019</td>\n",
       "      <td>Female</td>\n",
       "      <td>48</td>\n",
       "    </tr>\n",
       "    <tr>\n",
       "      <th>3</th>\n",
       "      <td>A803125</td>\n",
       "      <td>NaN</td>\n",
       "      <td>08/27/2019 06:41:00 PM</td>\n",
       "      <td>Brackenridge in Austin (TX)</td>\n",
       "      <td>Stray</td>\n",
       "      <td>Normal</td>\n",
       "      <td>Dog</td>\n",
       "      <td>5 years</td>\n",
       "      <td>Great Pyrenees</td>\n",
       "      <td>White</td>\n",
       "      <td>8</td>\n",
       "      <td>2019</td>\n",
       "      <td>Male</td>\n",
       "      <td>60</td>\n",
       "    </tr>\n",
       "    <tr>\n",
       "      <th>4</th>\n",
       "      <td>A803126</td>\n",
       "      <td>NaN</td>\n",
       "      <td>08/27/2019 06:32:00 PM</td>\n",
       "      <td>Meander Lane And Webberville in Austin (TX)</td>\n",
       "      <td>Stray</td>\n",
       "      <td>Normal</td>\n",
       "      <td>Dog</td>\n",
       "      <td>5 months</td>\n",
       "      <td>Labrador Retriever/Beagle</td>\n",
       "      <td>Black/White</td>\n",
       "      <td>8</td>\n",
       "      <td>2019</td>\n",
       "      <td>Female</td>\n",
       "      <td>5</td>\n",
       "    </tr>\n",
       "  </tbody>\n",
       "</table>\n",
       "</div>"
      ],
      "text/plain": [
       "  Animal ID        Name                DateTime  \\\n",
       "0   A797402  Seven Halo  08/27/2019 07:42:00 PM   \n",
       "1   A803130      Kojack  08/27/2019 07:42:00 PM   \n",
       "2   A803129         NaN  08/27/2019 06:53:00 PM   \n",
       "3   A803125         NaN  08/27/2019 06:41:00 PM   \n",
       "4   A803126         NaN  08/27/2019 06:32:00 PM   \n",
       "\n",
       "                                Found Location    Intake Type  \\\n",
       "0                4614 Sojourner in Travis (TX)  Public Assist   \n",
       "1                4614 Sojourner in Travis (TX)  Public Assist   \n",
       "2            7309 Carver Avenue in Austin (TX)          Stray   \n",
       "3                  Brackenridge in Austin (TX)          Stray   \n",
       "4  Meander Lane And Webberville in Austin (TX)          Stray   \n",
       "\n",
       "  Intake Condition Animal Type Age upon Intake                      Breed  \\\n",
       "0           Normal         Dog        4 months         Border Terrier Mix   \n",
       "1           Normal         Dog         2 years            German Shepherd   \n",
       "2           Normal         Dog         4 years            German Shepherd   \n",
       "3           Normal         Dog         5 years             Great Pyrenees   \n",
       "4           Normal         Dog        5 months  Labrador Retriever/Beagle   \n",
       "\n",
       "             Color  Intake Month  Intake Year  Gender  Intake Age in Months  \n",
       "0         Tricolor             8         2019    Male                     4  \n",
       "1  Black/Blue Tick             8         2019    Male                    24  \n",
       "2   Black/Tricolor             8         2019  Female                    48  \n",
       "3            White             8         2019    Male                    60  \n",
       "4      Black/White             8         2019  Female                     5  "
      ]
     },
     "execution_count": 15,
     "metadata": {},
     "output_type": "execute_result"
    }
   ],
   "source": [
    "df_intakes.head()"
   ]
  },
  {
   "cell_type": "markdown",
   "metadata": {},
   "source": [
    "## What type of animals are brought into the shelter and for what reasons?"
   ]
  },
  {
   "cell_type": "code",
   "execution_count": 16,
   "metadata": {},
   "outputs": [
    {
     "data": {
      "text/plain": [
       "Dog          60671\n",
       "Cat          40269\n",
       "Other         5611\n",
       "Bird           484\n",
       "Livestock       15\n",
       "Name: Animal Type, dtype: int64"
      ]
     },
     "execution_count": 16,
     "metadata": {},
     "output_type": "execute_result"
    }
   ],
   "source": [
    "# see the count of animals brought into center by animal type\n",
    "df_intakes['Animal Type'].value_counts()"
   ]
  },
  {
   "cell_type": "code",
   "execution_count": 17,
   "metadata": {},
   "outputs": [
    {
     "data": {
      "image/png": "[encoded data removed]",
      "text/plain": [
       "<Figure size 432x432 with 1 Axes>"
      ]
     },
     "metadata": {},
     "output_type": "display_data"
    }
   ],
   "source": [
    "# get value counts for Animal types and sorty by animal type name\n",
    "animal_types = df_intakes['Animal Type'].value_counts()\n",
    "animal_types.sort_index(inplace=True)\n",
    "\n",
    "# create pie chart of animal types\n",
    "fig = plt.figure(figsize=[6, 6])\n",
    "ax = fig.add_subplot(111)\n",
    "explode = len(animal_types) * (.02, )\n",
    "ax.pie(animal_types.values, labels=animal_types.index, autopct='%1.1f%%', explode=explode,\n",
    "       labeldistance=1.05, startangle=135, colors=color)\n",
    "ax.set_title('Types of Animals Brought to Center', fontsize=16);\n",
    "ax.legend(loc='upper right')\n",
    "plt.axis('equal')\n",
    "plt.tight_layout()\n",
    "plt.savefig('images/intakes_by_animal_type.png')\n",
    "plt.show()"
   ]
  },
  {
   "cell_type": "markdown",
   "metadata": {},
   "source": [
    "## What type of dogs are brought into the shelter and for what reasons?"
   ]
  },
  {
   "cell_type": "code",
   "execution_count": 22,
   "metadata": {},
   "outputs": [
    {
     "name": "stdout",
     "output_type": "stream",
     "text": [
      "Number of Unique Breeds (Combined): 2166\n",
      "Percent of Total of Top 5 Breeds (Combined): 41.0%\n",
      "Number of Unique Breeds (Combined, Cleaned, No Duplicates): 1851\n",
      "Percent of Total of Top 5 Breeds (Combined, Cleaned, No Duplicates): 43.0%\n"
     ]
    },
    {
     "data": {
      "text/plain": [
       "Mixed Breed            7087\n",
       "Pit Bull               5294\n",
       "Chihuahua Shorthair    5225\n",
       "Labrador Retriever     4964\n",
       "German Shepherd        2230\n",
       "dtype: int64"
      ]
     },
     "execution_count": 22,
     "metadata": {},
     "output_type": "execute_result"
    }
   ],
   "source": [
    "# see number of animals brought in by breed type\n",
    "\n",
    "# Find the unique number of dog breeds in the combined data. Only looking at the top x number of value counts.\n",
    "# This will dynamically update to top number of dog breeds analyzed and update the charts.\n",
    "i = 5\n",
    "\n",
    "print(f\"Number of Unique Breeds (Combined): \" + str(len(df_combined[df_combined['Animal Type'] == 'Dog']['Breed'].unique())))\n",
    "top_percent = round(df_combined[df_combined['Animal Type'] == 'Dog']['Breed'].value_counts(1).head(i).sum(),2)*100\n",
    "print(f\"Percent of Total of Top {i} Breeds (Combined): \" + str(top_percent) + \"%\")\n",
    "\n",
    "# Remove \"Mix\" from Breed Names. Duplicates Removed.\n",
    "stop_words = [\"Mix\"]\n",
    "f = lambda x: ' '.join(w for w in x.split() if not w in stop_words)\n",
    "\n",
    "df_combined_nodup['Breed'] = df_combined_nodup['Breed'].apply(f)\n",
    "\n",
    "print(f\"Number of Unique Breeds (Combined, Cleaned, No Duplicates): \" + str(len(df_combined_nodup[df_combined_nodup['Animal Type'] == 'Dog']['Breed'].unique())))\n",
    "top_percent_nodup = round(df_combined_nodup[df_combined_nodup['Animal Type'] == 'Dog']['Breed'].value_counts(1).head(i).sum(),2)*100\n",
    "print(f\"Percent of Total of Top {i} Breeds (Combined, Cleaned, No Duplicates): \" + str(top_percent_nodup) + \"%\")\n",
    "\n",
    "# Narrow dataframe to just dogs\n",
    "dog_combined_nodup = df_combined_nodup.loc[df_combined_nodup['Animal Type'] == 'Dog']\n",
    "\n",
    "# Parse dogs misted as mixed breeds into one category\n",
    "def parse_breed(s):\n",
    "    if bool(re.search('/', s)):\n",
    "        return 'Mixed Breed'\n",
    "    else:\n",
    "        return s\n",
    "\n",
    "dog_top_parse = dog_combined_nodup['Breed'].apply(parse_breed).value_counts().head(i)\n",
    "dog_total = len(dog_combined_nodup)\n",
    "other_dogs = dog_total - dog_top_parse.sum()\n",
    "other_dogs = pd.Series([other_dogs], index=['Other'])\n",
    "\n",
    "dog_total_series = dog_top_parse.append(other_dogs)\n",
    "dog_total_series.head()"
   ]
  },
  {
   "cell_type": "code",
   "execution_count": 21,
   "metadata": {},
   "outputs": [
    {
     "data": {
      "image/png": "[encoded data removed]",
      "text/plain": [
       "<Figure size 576x576 with 1 Axes>"
      ]
     },
     "metadata": {},
     "output_type": "display_data"
    }
   ],
   "source": [
    "# Plot the Pie Chart\n",
    "color = ['xkcd:teal', 'xkcd:orange', 'xkcd:yellow','xkcd:light green', 'xkcd:magenta', 'xkcd:light blue']\n",
    "fig = plt.figure(figsize=[8, 8])\n",
    "ax = fig.add_subplot(111)\n",
    "ax.pie(dog_total_series.values, labels=dog_total_series.index, colors=color, autopct='%1.0f%%', labeldistance=1.15, pctdistance=0.75, startangle=150)\n",
    "ax.set_title(f\"Top {i} Dog Breeds\", fontsize=20);\n",
    "plt.axis('equal')\n",
    "# plt.figtext(0, 0, '*Include a description of other here.', style='italic') \n",
    "plt.tight_layout()\n",
    "plt.savefig(\"Images/Top_5_Dog_Breeds.png\")"
   ]
  },
  {
   "cell_type": "code",
   "execution_count": 23,
   "metadata": {},
   "outputs": [
    {
     "data": {
      "text/plain": [
       "Intake Type\n",
       "Euthanasia Request      255\n",
       "Owner Surrender       20347\n",
       "Public Assist          6672\n",
       "Stray                 75582\n",
       "Wildlife               4194\n",
       "Name: Animal ID, dtype: int64"
      ]
     },
     "execution_count": 23,
     "metadata": {},
     "output_type": "execute_result"
    }
   ],
   "source": [
    "# see number of animals brought in by intake type\n",
    "df_intakes.groupby(['Intake Type'])['Animal ID'].count()"
   ]
  },
  {
   "cell_type": "code",
   "execution_count": 24,
   "metadata": {},
   "outputs": [
    {
     "data": {
      "image/png": "[encoded data removed]",
      "text/plain": [
       "<Figure size 864x576 with 1 Axes>"
      ]
     },
     "metadata": {
      "needs_background": "light"
     },
     "output_type": "display_data"
    }
   ],
   "source": [
    "# create bar chart of intake types\n",
    "intake_types = df_intakes.groupby(['Intake Type'])['Animal ID'].count()\n",
    "\n",
    "fig, ax = plt.subplots(figsize=(12,8))\n",
    "x_axis = np.arange(len(intake_types))\n",
    "# Create a bar chart based upon the above data\n",
    "plt.bar(x_axis, intake_types, color=color[0])\n",
    "# can just send in x axis since it has the vlaues of axis already to be updated\n",
    "plt.xticks(x_axis, intake_types.index)\n",
    "\n",
    "total_intakes = intake_types.sum()\n",
    "\n",
    "# annotate chart showing total count and % of all\n",
    "index = 0\n",
    "for p in ax.patches:\n",
    "    h = p.get_height()\n",
    "    x = p.get_x()+p.get_width()/2.\n",
    "    pct = ' (' + str(round(h/total_intakes * 100, 2)) + '%)'\n",
    "    amt = format(p.get_height(), ',.0f')\n",
    "#     print(amt + pct)\n",
    "    if h != 0:   \n",
    "        ax.annotate(amt+pct, xy=(x,h), xytext=(0,4), \n",
    "                   textcoords=\"offset points\", ha=\"center\", va=\"bottom\")\n",
    "    index += 1\n",
    "        \n",
    "# reset max y axis so we can get the values printed inside the chart\n",
    "plt.ylim(0, max(intake_types.values)+10000)\n",
    "# format y axis with commas\n",
    "ax.set_yticklabels(['{:,}'.format(int(x)) for x in ax.get_yticks().tolist()])\n",
    "# show grid lines on y axis\n",
    "ax.grid(b=True,which=\"both\",axis=\"y\",linestyle=\"-\",color=\"lightgrey\")\n",
    "\n",
    "plt.title(\"Total Animals by Intake Type\", fontsize='16')\n",
    "plt.xlabel(\"Intake Type\", fontsize='12')\n",
    "plt.ylabel(\"Animal Count\", fontsize='12')\n",
    "plt.savefig('images/intakes_by_intake_type.png')\n",
    "plt.show()"
   ]
  },
  {
   "cell_type": "code",
   "execution_count": 29,
   "metadata": {},
   "outputs": [
    {
     "name": "stderr",
     "output_type": "stream",
     "text": [
      "//anaconda3/envs/PythonData/lib/python3.6/site-packages/ipykernel_launcher.py:8: SettingWithCopyWarning: \n",
      "A value is trying to be set on a copy of a slice from a DataFrame.\n",
      "Try using .loc[row_indexer,col_indexer] = value instead\n",
      "\n",
      "See the caveats in the documentation: http://pandas.pydata.org/pandas-docs/stable/user_guide/indexing.html#returning-a-view-versus-a-copy\n",
      "  \n"
     ]
    },
    {
     "data": {
      "image/png": "[encoded data removed]",
      "text/plain": [
       "<Figure size 1080x720 with 1 Axes>"
      ]
     },
     "metadata": {
      "needs_background": "light"
     },
     "output_type": "display_data"
    }
   ],
   "source": [
    "## Intake Type\n",
    "# Stray                 33231\n",
    "# Owner Surrender        6896\n",
    "# Public Assist          3691\n",
    "# Euthanasia Request      169\n",
    "# Name: Intake Type, dtype: int64\n",
    "\n",
    "dog_combined_nodup['Dog Breed'] = dog_combined_nodup['Breed'].apply(parse_breed)\n",
    "dog_stray = dog_combined_nodup.loc[dog_combined_nodup['Intake Type'] == 'Stray'].groupby(['Intake Type'])['Dog Breed'].value_counts().head(i)\n",
    "# dog_stray = dog_stray.iloc[0:i]\n",
    "# dog_stray_r = dog_stray.sum()\n",
    "# dog_stray_total\n",
    "dog_stray\n",
    "\n",
    "dog_sur = dog_combined_nodup.loc[dog_combined_nodup['Intake Type'] == 'Owner Surrender'].groupby(['Intake Type'])['Dog Breed'].value_counts().head(i)\n",
    "dog_sur = dog_sur.iloc[0:i]\n",
    "dog_sur\n",
    "\n",
    "dog_pub = dog_combined_nodup.loc[dog_combined_nodup['Intake Type'] == 'Public Assist'].groupby(['Intake Type'])['Dog Breed'].value_counts().head(i)\n",
    "dog_pub = dog_pub.iloc[0:i]\n",
    "dog_pub\n",
    "\n",
    "dog_euth = dog_combined_nodup.loc[dog_combined_nodup['Intake Type'] == 'Euthanasia Request'].groupby(['Intake Type'])['Dog Breed'].value_counts().head(i)\n",
    "dog_euth = dog_euth.iloc[0:i]\n",
    "dog_euth\n",
    "\n",
    "intake_type = dog_stray.append(dog_sur).append(dog_pub).append(dog_euth).unstack()\n",
    "intake_type\n",
    "\n",
    "fig, ax = plt.subplots()\n",
    "fig.set_size_inches(15,10)\n",
    "\n",
    "intake_type.plot.bar(stacked=True, ax=ax, color=color);\n",
    "plt.xticks(rotation=0)\n",
    "ax.set_title('Intake Type by Dog Breed', fontsize=16)\n",
    "\n",
    "# hide the y axis lable\n",
    "y_axis = ax.yaxis\n",
    "y_axis.label.set_visible(False)\n",
    "\n",
    "ax.legend(loc='upper left')\n",
    "plt.savefig(\"Images/Intake_Type_by_Dog_Breed.png\")\n",
    "plt.show()"
   ]
  },
  {
   "cell_type": "code",
   "execution_count": 30,
   "metadata": {},
   "outputs": [
    {
     "name": "stderr",
     "output_type": "stream",
     "text": [
      "//anaconda3/envs/PythonData/lib/python3.6/site-packages/ipykernel_launcher.py:6: SettingWithCopyWarning: \n",
      "A value is trying to be set on a copy of a slice from a DataFrame.\n",
      "Try using .loc[row_indexer,col_indexer] = value instead\n",
      "\n",
      "See the caveats in the documentation: http://pandas.pydata.org/pandas-docs/stable/user_guide/indexing.html#returning-a-view-versus-a-copy\n",
      "  \n"
     ]
    },
    {
     "data": {
      "image/png": "[encoded data removed]",
      "text/plain": [
       "<Figure size 1080x720 with 1 Axes>"
      ]
     },
     "metadata": {
      "needs_background": "light"
     },
     "output_type": "display_data"
    }
   ],
   "source": [
    "# Owner Surrender        6896\n",
    "# Public Assist          3691\n",
    "# Euthanasia Request      169\n",
    "# Name: Intake Type, dtype: int64\n",
    "\n",
    "dog_combined_nodup['Dog Breed'] = dog_combined_nodup['Breed'].apply(parse_breed)\n",
    "dog_stray = dog_combined_nodup.loc[dog_combined_nodup['Intake Type'] == 'Stray'].groupby(['Intake Type'])['Dog Breed'].value_counts(1).head(i)\n",
    "# dog_stray = dog_stray.iloc[0:i]\n",
    "# dog_stray_r = dog_stray.sum()\n",
    "# dog_stray_total\n",
    "dog_stray\n",
    "\n",
    "dog_sur = dog_combined_nodup.loc[dog_combined_nodup['Intake Type'] == 'Owner Surrender'].groupby(['Intake Type'])['Dog Breed'].value_counts(1).head(i)\n",
    "dog_sur = dog_sur.iloc[0:i]\n",
    "dog_sur\n",
    "\n",
    "dog_pub = dog_combined_nodup.loc[dog_combined_nodup['Intake Type'] == 'Public Assist'].groupby(['Intake Type'])['Dog Breed'].value_counts(1).head(i)\n",
    "dog_pub = dog_pub.iloc[0:i]\n",
    "dog_pub\n",
    "\n",
    "dog_euth = dog_combined_nodup.loc[dog_combined_nodup['Intake Type'] == 'Euthanasia Request'].groupby(['Intake Type'])['Dog Breed'].value_counts(1).head(i)\n",
    "dog_euth = dog_euth.iloc[0:i]\n",
    "dog_euth\n",
    "\n",
    "intake_type = dog_stray.append(dog_sur).append(dog_pub).append(dog_euth).unstack()\n",
    "intake_type\n",
    "\n",
    "fig, ax = plt.subplots()\n",
    "fig.set_size_inches(15,10)\n",
    "\n",
    "intake_type.plot.bar(stacked=True, ax=ax, color=color);\n",
    "plt.xticks(rotation=0)\n",
    "ax.set_title('Intake Type by Dog Breed', fontsize=16)\n",
    "\n",
    "# hide the y axis lable\n",
    "y_axis = ax.yaxis\n",
    "y_axis.label.set_visible(False)\n",
    "\n",
    "ax.legend(loc='upper left')\n",
    "plt.savefig(\"Images/Intake_Type_by_Dog_Breed.png\")\n",
    "plt.show()"
   ]
  },
  {
   "cell_type": "markdown",
   "metadata": {},
   "source": [
    "## When is an animal most likely to be admitted to the Center?"
   ]
  },
  {
   "cell_type": "code",
   "execution_count": null,
   "metadata": {},
   "outputs": [],
   "source": [
    "# look at intake by by Month and Year\n",
    "df_intakes.groupby(['Intake Month', 'Intake Year'])['Animal ID'].count().unstack()"
   ]
  },
  {
   "cell_type": "code",
   "execution_count": null,
   "metadata": {},
   "outputs": [],
   "source": [
    "# get intake yearly totals\n",
    "df_intake_yearly_totals = df_intakes.groupby(['Intake Month', 'Intake Year'])['Animal ID'].count().unstack()\n",
    "\n",
    "#create bar chart\n",
    "fig, ax = plt.subplots(figsize=(10,8))\n",
    "plt.title('Total Intakes Over Time', fontsize='16')\n",
    "plt.xlabel('Month', fontsize='12')\n",
    "plt.ylabel('Animal Count', fontsize='12')\n",
    "\n",
    "plt.grid (b=True,which=\"both\",axis=\"both\",linestyle=\"-\",color=\"lightgrey\")\n",
    "plt.plot(df_intake_yearly_totals)\n",
    "plt.xticks(df_intake_yearly_totals.index)\n",
    "plt.legend(df_intake_yearly_totals.columns)\n",
    "# format y axis with commas\n",
    "ax.set_yticklabels(['{:,}'.format(int(x)) for x in ax.get_yticks().tolist()])\n",
    "plt.savefig('images/intakes_over_time.png')\n",
    "plt.tight_layout()\n",
    "plt.show()"
   ]
  },
  {
   "cell_type": "code",
   "execution_count": null,
   "metadata": {},
   "outputs": [],
   "source": [
    "# see how many animals are brought in by condition\n",
    "df_intakes.groupby(['Intake Condition'])['Animal ID'].count()"
   ]
  },
  {
   "cell_type": "code",
   "execution_count": null,
   "metadata": {},
   "outputs": [],
   "source": [
    "# get intake counts by condition\n",
    "intake_conditions = df_intakes.groupby(['Intake Condition'])['Animal ID'].count()\n",
    "\n",
    "# let's plot\n",
    "fig, ax = plt.subplots(figsize=(12,8))\n",
    "\n",
    "x_axis = np.arange(len(intake_conditions))\n",
    "# Create a bar chart based upon the above data\n",
    "plt.bar(x_axis, intake_conditions, color=color[1])\n",
    "# can just send in x axis since it has the vlaues of axis already to be updated\n",
    "plt.xticks(x_axis, intake_conditions.index)\n",
    "\n",
    "total_intakes = intake_conditions.sum()\n",
    "\n",
    "index = 0\n",
    "for p in ax.patches:\n",
    "    h = p.get_height()\n",
    "    x = p.get_x()+p.get_width()/2.\n",
    "    pct = ' (' + str(round(h/total_intakes * 100, 2)) + '%)'\n",
    "    amt = format(p.get_height(), ',.0f')\n",
    "#     print(amt + pct)\n",
    "    if h != 0:   \n",
    "        ax.annotate(amt+pct, xy=(x,h), xytext=(0,4), \n",
    "                   textcoords=\"offset points\", ha=\"center\", va=\"bottom\")\n",
    "    index += 1\n",
    "        \n",
    "# reset max y axis so we can get the values printed inside the chart\n",
    "plt.ylim(0, max(intake_conditions.values)+10000)\n",
    "# format y axis with commas\n",
    "ax.set_yticklabels(['{:,}'.format(int(x)) for x in ax.get_yticks().tolist()])\n",
    "# show grid lines on y axis\n",
    "ax.grid(b=True,which=\"both\",axis=\"y\",linestyle=\"-\",color=\"lightgrey\")\n",
    "\n",
    "plt.title(\"Total Animals by Intake Condition\", fontsize='16')\n",
    "plt.xlabel(\"Intake Condition\", fontsize='12')\n",
    "plt.ylabel(\"Animal Count\", fontsize='12')\n",
    "plt.savefig('images/intakes_by_intake_condition.png')\n",
    "plt.show()\n"
   ]
  },
  {
   "cell_type": "markdown",
   "metadata": {},
   "source": [
    "## What are the outcomes for animals brought to the center?"
   ]
  },
  {
   "cell_type": "code",
   "execution_count": null,
   "metadata": {},
   "outputs": [],
   "source": [
    "#look at outcome types\n",
    "df_outcomes.groupby(['Outcome Type'])['Animal ID'].count()"
   ]
  },
  {
   "cell_type": "code",
   "execution_count": null,
   "metadata": {},
   "outputs": [],
   "source": [
    "# creat outcome types data series\n",
    "outcome_types = df_outcomes.groupby(['Outcome Type'])['Animal ID'].count()\n",
    "\n",
    "#plot the series\n",
    "fig, ax = plt.subplots(figsize=(12,8))\n",
    "\n",
    "x_axis = np.arange(len(outcome_types))\n",
    "# Create a bar chart based upon the above data\n",
    "plt.bar(x_axis, outcome_types, color=color[4])\n",
    "# can just send in x axis since it has the vlaues of axis already to be updated\n",
    "plt.xticks(x_axis, outcome_types.index)\n",
    "\n",
    "total_outcomes = outcome_types.sum()\n",
    "\n",
    "index = 0\n",
    "for p in ax.patches:\n",
    "    h = p.get_height()\n",
    "    x = p.get_x()+p.get_width()/2.\n",
    "    pct = ' (' + str(round(h/total_outcomes * 100, 2)) + '%)'\n",
    "    amt = format(p.get_height(), ',.0f')\n",
    "#     print(amt + pct)\n",
    "    if h != 0:   \n",
    "        ax.annotate(amt+pct, xy=(x,h), xytext=(0,4), \n",
    "                   textcoords=\"offset points\", ha=\"center\", va=\"bottom\")\n",
    "    index += 1\n",
    "        \n",
    "# reset max y axis so we can get the values printed inside the chart\n",
    "plt.ylim(0, max(outcome_types.values)+10000)\n",
    "# format y axis with commas\n",
    "ax.set_yticklabels(['{:,}'.format(int(x)) for x in ax.get_yticks().tolist()])\n",
    "# show grid lines on y axis\n",
    "ax.grid(b=True,which=\"both\",axis=\"y\",linestyle=\"-\",color=\"lightgrey\")\n",
    "\n",
    "plt.title(\"Total Animals by Outcome Type\", fontsize='16')\n",
    "plt.xlabel(\"Outcome Type\", fontsize='12')\n",
    "plt.ylabel(\"Total Animals\", fontsize='12')\n",
    "plt.savefig('images/outcomes_by_outcome_type.png')\n",
    "plt.show()"
   ]
  },
  {
   "cell_type": "code",
   "execution_count": null,
   "metadata": {},
   "outputs": [],
   "source": [
    "# let's look at outcomes by month \n",
    "df_outcomes.groupby(['Outcome Month'])['Animal ID'].count()"
   ]
  },
  {
   "cell_type": "code",
   "execution_count": null,
   "metadata": {},
   "outputs": [],
   "source": [
    "# get total of outcomes by month\n",
    "intakes_by_month = df_intakes.groupby(['Intake Month'])['Animal ID'].count()\n",
    "outcomes_by_month = df_outcomes.groupby(['Outcome Month'])['Animal ID'].count()\n",
    "\n",
    "# combine intakes by month and outcomes by month into a single dataframe\n",
    "df_monthly_intakes_outcomes = intakes_by_month.to_frame(name = 'Intakes').join(outcomes_by_month.to_frame(name='Outcomes'))\n",
    "# df_monthly_intakes_outcomes.index\n",
    "\n",
    "# create an area chart to compare incomes to outcomes\n",
    "ax = df_monthly_intakes_outcomes.plot.area(stacked=False, figsize=(15,8)) \n",
    "\n",
    "plt.title('Intakes vs. Outcomes by Month', fontsize='16')\n",
    "plt.xlabel('Month', fontsize='12')\n",
    "plt.ylabel('Count', fontsize='12')\n",
    "\n",
    "# format y axis with commas\n",
    "ax.set_yticklabels(['{:,}'.format(int(x)) for x in ax.get_yticks().tolist()])\n",
    "# show grid lines on y axis\n",
    "ax.grid(b=True,which=\"both\",axis=\"y\",linestyle=\"-\",color=\"lightgrey\")\n",
    "plt.xticks(df_monthly_intakes_outcomes.index)\n",
    "\n",
    "plt.savefig('images/intakes_vs_outcomes_by_month.png')\n",
    "plt.show()\n"
   ]
  },
  {
   "cell_type": "markdown",
   "metadata": {},
   "source": [
    "## Does age play a factor in how quickly a Cat or Dog is adopted?"
   ]
  },
  {
   "cell_type": "code",
   "execution_count": null,
   "metadata": {},
   "outputs": [],
   "source": [
    "df_adoptions = df_combined_deduped.loc[(df_combined_deduped['Outcome Type'] == 'Adoption') & df_combined_deduped['Animal Type'].isin(['Cat', 'Dog'])]\n",
    "df_adoptions.head()"
   ]
  },
  {
   "cell_type": "code",
   "execution_count": null,
   "metadata": {},
   "outputs": [],
   "source": [
    "groups = df_adoptions.groupby('Animal Type')\n",
    "\n",
    "# Plot\n",
    "fig, ax = plt.subplots(figsize=(12,8))\n",
    "ax.margins(0.05) # Optional, just adds 5% padding to the autoscaling\n",
    "for name, group in groups:\n",
    "    ax.plot(group['Days in Center'], group['Intake Age in Months'], marker='o', linestyle='',  alpha=.25, ms=10, label=name)\n",
    "ax.legend()\n",
    "\n",
    "plt.grid (b=True,which=\"major\",axis=\"both\",linestyle=\"-\",color=\"lightgrey\")\n",
    "plt.title('Age Upon Intake (Months) vs Days in Center before Adopted', fontsize=14)\n",
    "plt.xlabel(\"Days in Center\")\n",
    "plt.ylabel(\"Intake Age in Months\")\n",
    "\n",
    "plt.savefig('images/adoption_age_vs_time_in_center.png')\n",
    "plt.show()"
   ]
  },
  {
   "cell_type": "code",
   "execution_count": null,
   "metadata": {},
   "outputs": [],
   "source": [
    "# create bins for age ranges\n",
    "bins = [0, 12, 36, 72, 108, 144, 180, 360]\n",
    "# Create the names for the four bins\n",
    "group_names = [\"< 1 Year\", \"1-3 Year\", \"3-6 Years\", \"6-9 Years\", \"9-12 Years\", \"12-15 Years\", \"> 15 Years\"]\n",
    "\n",
    "# add these items to the df_adoptions\n",
    "df_adoptions['Intake Age Range'] = pd.cut(df_adoptions['Intake Age in Months'], bins, labels=group_names)\n",
    "df_adoptions.head()"
   ]
  },
  {
   "cell_type": "code",
   "execution_count": null,
   "metadata": {},
   "outputs": [],
   "source": [
    "df_adoption_age_ranges = df_adoptions.groupby(['Animal Type', 'Intake Age Range'])['Days in Center'].mean().reset_index()"
   ]
  },
  {
   "cell_type": "code",
   "execution_count": null,
   "metadata": {},
   "outputs": [],
   "source": [
    "x_axis = df_adoption_age_ranges[df_adoption_age_ranges['Animal Type'] == 'Cat']['Intake Age Range']\n",
    "cats_data = df_adoption_age_ranges[df_adoption_age_ranges['Animal Type'] == 'Cat']['Days in Center']\n",
    "dogs_data = df_adoption_age_ranges[df_adoption_age_ranges['Animal Type'] == 'Dog']['Days in Center']\n",
    "\n",
    "ind = np.arange(len(x_axis))  # the x locations for the groups\n",
    "\n",
    "#plot hbar chart\n",
    "fig, ax = plt.subplots(figsize=(12,8))\n",
    "width = .35\n",
    "rects = ax.barh(ind - width/2, cats_data, width, label='Cat')\n",
    "\n",
    "rects2 = ax.barh(ind + width/2, dogs_data, width, label='Dog')\n",
    "\n",
    "# Add some text for labels, title and custom x-axis tick labels, etc.\n",
    "ax.set_ylabel('Age Range', fontsize=12)\n",
    "ax.set_xlabel('Avg Days in Center', fontsize=12)\n",
    "ax.set_title('Average Days in Center by Age Range', fontsize=16)\n",
    "ax.set_yticks(ind)\n",
    "ax.set_yticklabels(x_axis)\n",
    "\n",
    "# show grid lines on y axis\n",
    "ax.grid(b=True,which=\"both\",axis=\"x\",linestyle=\"-\",color=\"lightgray\")\n",
    "ax.legend(loc='lower right')\n",
    "\n",
    "plt.savefig('images/avg_days_by_age_range.png')\n",
    "plt.show()"
   ]
  },
  {
   "cell_type": "code",
   "execution_count": null,
   "metadata": {},
   "outputs": [],
   "source": []
  }
 ],
 "metadata": {
  "kernelspec": {
   "display_name": "Conda [PythonData]",
   "language": "python",
   "name": "pythondata"
  },
  "language_info": {
   "codemirror_mode": {
    "name": "ipython",
    "version": 3
   },
   "file_extension": ".py",
   "mimetype": "text/x-python",
   "name": "python",
   "nbconvert_exporter": "python",
   "pygments_lexer": "ipython3",
   "version": "3.6.9"
  }
 },
 "nbformat": 4,
 "nbformat_minor": 2
}
